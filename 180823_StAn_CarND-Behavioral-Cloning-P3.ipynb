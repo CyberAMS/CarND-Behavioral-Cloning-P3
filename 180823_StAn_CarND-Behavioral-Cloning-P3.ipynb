{
 "cells": [
  {
   "cell_type": "code",
   "execution_count": 1,
   "metadata": {
    "scrolled": false
   },
   "outputs": [
    {
     "name": "stderr",
     "output_type": "stream",
     "text": [
      "C:\\ProgramData\\Anaconda3\\envs\\tensorflow_GPU\\lib\\site-packages\\h5py\\__init__.py:36: FutureWarning: Conversion of the second argument of issubdtype from `float` to `np.floating` is deprecated. In future, it will be treated as `np.float64 == np.dtype(float).type`.\n",
      "  from ._conv import register_converters as _register_converters\n",
      "Using TensorFlow backend.\n"
     ]
    },
    {
     "name": "stdout",
     "output_type": "stream",
     "text": [
      "Finding input data files...\n",
      "../../GD_GitHubData/behavioral-cloning-data\\track1_center1_driving_log.csv\n",
      "../../GD_GitHubData/behavioral-cloning-data\\track1_center2_driving_log.csv\n",
      "../../GD_GitHubData/behavioral-cloning-data\\track1_counter1_driving_log.csv\n",
      "../../GD_GitHubData/behavioral-cloning-data\\track1_counter2_driving_log.csv\n",
      "../../GD_GitHubData/behavioral-cloning-data\\track1_weave1_driving_log.csv\n",
      "../../GD_GitHubData/behavioral-cloning-data\\track1_weave2_driving_log.csv\n",
      "../../GD_GitHubData/behavioral-cloning-data\\track1_ceave1_driving_log.csv\n",
      "../../GD_GitHubData/behavioral-cloning-data\\track1_ceave2_driving_log.csv\n",
      "../../GD_GitHubData/behavioral-cloning-data\\track1_meave1_driving_log.csv\n",
      "../../GD_GitHubData/behavioral-cloning-data\\track1_meave2_driving_log.csv\n",
      "../../GD_GitHubData/behavioral-cloning-data\\track1_deave1_driving_log.csv\n",
      "../../GD_GitHubData/behavioral-cloning-data\\track1_deave2_driving_log.csv\n",
      "Number of image files: 88020 ; number of measurements: 88020 ; must flip: 44010 ; size: 320 x 160\n",
      "                 center  centerflipped  left  leftflipped  right  rightflipped\n",
      "track1_ceave1       631            631   631          631    631           631\n",
      "track1_ceave2      1918           1918  1918         1918   1918          1918\n",
      "track1_center1     1325           1325  1325         1325   1325          1325\n",
      "track1_center2     1289           1289  1289         1289   1289          1289\n",
      "track1_counter1    1287           1287  1287         1287   1287          1287\n",
      "track1_counter2    1327           1327  1327         1327   1327          1327\n",
      "track1_deave1       738            738   738          738    738           738\n",
      "track1_deave2       966            966   966          966    966           966\n",
      "track1_meave1      1064           1064  1064         1064   1064          1064\n",
      "track1_meave2       857            857   857          857    857           857\n",
      "track1_weave1      2106           2106  2106         2106   2106          2106\n",
      "track1_weave2      1162           1162  1162         1162   1162          1162\n",
      "= = = = = = = = = = = = = = = = = = = = = = = = = = = = = = = = = = = = = = = =\n",
      "Configuration: c5_d4_wd\n",
      "- - - - - - - - - - - - - - - - - - - - - - - - - - - - - - - - - - - - - - - -\n",
      "Batch size: 32\n"
     ]
    },
    {
     "name": "stderr",
     "output_type": "stream",
     "text": [
      "D:\\Data\\B_Programs\\GH_GitHub\\CarND-Behavioral-Cloning-P3\\behavioral_cloning4.py:419: UserWarning: Update your `Conv2D` call to the Keras 2 API: `Conv2D(24, (5, 5), activation=\"relu\", kernel_regularizer=<keras.reg..., strides=(2, 2))`\n",
      "  subsample = conv_layer.strides, activation = \"relu\", kernel_regularizer = sMP.regularizer))\n",
      "D:\\Data\\B_Programs\\GH_GitHub\\CarND-Behavioral-Cloning-P3\\behavioral_cloning4.py:419: UserWarning: Update your `Conv2D` call to the Keras 2 API: `Conv2D(36, (5, 5), activation=\"relu\", kernel_regularizer=<keras.reg..., strides=(2, 2))`\n",
      "  subsample = conv_layer.strides, activation = \"relu\", kernel_regularizer = sMP.regularizer))\n",
      "D:\\Data\\B_Programs\\GH_GitHub\\CarND-Behavioral-Cloning-P3\\behavioral_cloning4.py:419: UserWarning: Update your `Conv2D` call to the Keras 2 API: `Conv2D(48, (5, 5), activation=\"relu\", kernel_regularizer=<keras.reg..., strides=(2, 2))`\n",
      "  subsample = conv_layer.strides, activation = \"relu\", kernel_regularizer = sMP.regularizer))\n",
      "D:\\Data\\B_Programs\\GH_GitHub\\CarND-Behavioral-Cloning-P3\\behavioral_cloning4.py:419: UserWarning: Update your `Conv2D` call to the Keras 2 API: `Conv2D(64, (3, 3), activation=\"relu\", kernel_regularizer=<keras.reg..., strides=(1, 1))`\n",
      "  subsample = conv_layer.strides, activation = \"relu\", kernel_regularizer = sMP.regularizer))\n"
     ]
    },
    {
     "name": "stdout",
     "output_type": "stream",
     "text": [
      "_________________________________________________________________\n",
      "Layer (type)                 Output Shape              Param #   \n",
      "=================================================================\n",
      "cropping2d_1 (Cropping2D)    (None, 65, 320, 3)        0         \n",
      "_________________________________________________________________\n",
      "lambda_1 (Lambda)            (None, 65, 320, 3)        0         \n",
      "_________________________________________________________________\n",
      "conv2d_1 (Conv2D)            (None, 31, 158, 24)       1824      \n",
      "_________________________________________________________________\n",
      "conv2d_2 (Conv2D)            (None, 14, 77, 36)        21636     \n",
      "_________________________________________________________________\n",
      "conv2d_3 (Conv2D)            (None, 5, 37, 48)         43248     \n",
      "_________________________________________________________________\n",
      "conv2d_4 (Conv2D)            (None, 3, 35, 64)         27712     \n",
      "_________________________________________________________________\n",
      "conv2d_5 (Conv2D)            (None, 1, 33, 64)         36928     \n",
      "_________________________________________________________________\n",
      "flatten_1 (Flatten)          (None, 2112)              0         \n",
      "_________________________________________________________________\n",
      "dropout_1 (Dropout)          (None, 2112)              0         \n",
      "_________________________________________________________________\n",
      "dense_1 (Dense)              (None, 100)               211300    \n",
      "_________________________________________________________________\n",
      "dropout_2 (Dropout)          (None, 100)               0         \n",
      "_________________________________________________________________\n",
      "dense_2 (Dense)              (None, 50)                5050      \n",
      "_________________________________________________________________\n",
      "dropout_3 (Dropout)          (None, 50)                0         \n",
      "_________________________________________________________________\n",
      "dense_3 (Dense)              (None, 10)                510       \n",
      "_________________________________________________________________\n",
      "dense_4 (Dense)              (None, 1)                 11        \n",
      "=================================================================\n",
      "Total params: 348,219\n",
      "Trainable params: 348,219\n",
      "Non-trainable params: 0\n",
      "_________________________________________________________________\n"
     ]
    },
    {
     "name": "stderr",
     "output_type": "stream",
     "text": [
      "D:\\Data\\B_Programs\\GH_GitHub\\CarND-Behavioral-Cloning-P3\\behavioral_cloning4.py:439: UserWarning: The semantics of the Keras 2 argument `steps_per_epoch` is not the same as the Keras 1 argument `samples_per_epoch`. `steps_per_epoch` is the number of batches to draw from the generator at each epoch. Basically steps_per_epoch = samples_per_epoch/batch_size. Similarly `nb_val_samples`->`validation_steps` and `val_samples`->`steps` arguments have changed. Update your method calls accordingly.\n",
      "  nb_val_samples = np.int(valid_size // batch_size), nb_epoch = epochs, verbose = 1)\n",
      "D:\\Data\\B_Programs\\GH_GitHub\\CarND-Behavioral-Cloning-P3\\behavioral_cloning4.py:439: UserWarning: Update your `fit_generator` call to the Keras 2 API: `fit_generator(<generator..., validation_data=<generator..., verbose=1, steps_per_epoch=2200, validation_steps=550, epochs=3)`\n",
      "  nb_val_samples = np.int(valid_size // batch_size), nb_epoch = epochs, verbose = 1)\n"
     ]
    },
    {
     "name": "stdout",
     "output_type": "stream",
     "text": [
      "Epoch 1/3\n",
      "2200/2200 [==============================] - 203s 92ms/step - loss: 0.1428 - val_loss: 0.1032\n",
      "Epoch 2/3\n",
      "2200/2200 [==============================] - 201s 91ms/step - loss: 0.1054 - val_loss: 0.1070\n",
      "Epoch 3/3\n",
      "2200/2200 [==============================] - 205s 93ms/step - loss: 0.1065 - val_loss: 0.1055\n"
     ]
    },
    {
     "data": {
      "image/png": "[encoded data removed]",
      "text/plain": [
       "<Figure size 432x288 with 1 Axes>"
      ]
     },
     "metadata": {},
     "output_type": "display_data"
    }
   ],
   "source": [
    "%matplotlib inline\n",
    "%run behavioral_cloning4"
   ]
  },
  {
   "cell_type": "code",
   "execution_count": null,
   "metadata": {},
   "outputs": [],
   "source": []
  }
 ],
 "metadata": {
  "kernelspec": {
   "display_name": "Python 3",
   "language": "python",
   "name": "python3"
  },
  "language_info": {
   "codemirror_mode": {
    "name": "ipython",
    "version": 3
   },
   "file_extension": ".py",
   "mimetype": "text/x-python",
   "name": "python",
   "nbconvert_exporter": "python",
   "pygments_lexer": "ipython3",
   "version": "3.5.5"
  }
 },
 "nbformat": 4,
 "nbformat_minor": 2
}
