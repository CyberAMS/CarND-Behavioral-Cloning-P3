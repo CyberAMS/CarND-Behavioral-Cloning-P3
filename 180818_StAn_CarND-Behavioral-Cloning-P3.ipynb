{
 "cells": [
  {
   "cell_type": "code",
   "execution_count": 24,
   "metadata": {
    "scrolled": false
   },
   "outputs": [
    {
     "name": "stdout",
     "output_type": "stream",
     "text": [
      "Finding input data files...\n",
      "../../GD_GitHubData/behavioral-cloning-data\\track1_ceave1_driving_log.csv\n",
      "../../GD_GitHubData/behavioral-cloning-data\\track1_ceave2_driving_log.csv\n",
      "../../GD_GitHubData/behavioral-cloning-data\\track1_center1_driving_log.csv\n",
      "../../GD_GitHubData/behavioral-cloning-data\\track1_center2_driving_log.csv\n",
      "../../GD_GitHubData/behavioral-cloning-data\\track1_counter1_driving_log.csv\n",
      "../../GD_GitHubData/behavioral-cloning-data\\track1_counter2_driving_log.csv\n",
      "../../GD_GitHubData/behavioral-cloning-data\\track1_weave1_driving_log.csv\n",
      "../../GD_GitHubData/behavioral-cloning-data\\track1_weave2_driving_log.csv\n",
      "Number of image files: 66270 ; number of measurements: 66270 ; must flip: 66270 ; size: 320 x 160\n",
      "[<keras.layers.convolutional.Cropping2D object at 0x00000238C945BEB8>, <keras.layers.core.Flatten object at 0x00000238B2DBDE48>, <keras.layers.core.Dense object at 0x00000238C99F3AC8>, <keras.layers.core.Dense object at 0x00000238F39DCF28>, <keras.layers.core.Dense object at 0x00000238F2E80080>, <keras.layers.core.Dense object at 0x00000238F2E89AC8>]\n",
      "[-0.9146616000000001, -0.8007519, -0.462406, -0.7755639000000001, -0.4800752, 0.2620301, -0.8296992, 0.1503759, 0.5150376, 0.3695489, -0.1766917, 0.07255639, 0.1428571, 0.11015037, 0.08007519, 0.2368421, 0.09887218, 0.95, -0.2981203, 0.007518797, 0.07518797, 0.01503759, 0.06879699, 0.11165409999999999, 0.8582707, -0.3898496, 0.04135338, 0.5988722000000001, 0.7368421, -0.2593985, 1.0, -0.12894737]\n",
      "(32, 160, 320, 3)\n",
      "(32,)\n"
     ]
    },
    {
     "name": "stderr",
     "output_type": "stream",
     "text": [
      "U:\\DatenAMS\\2_Archive\\B_Programs\\GH_GitHub\\CarND-Behavioral-Cloning-P3\\behavioral_cloning.py:320: UserWarning: The semantics of the Keras 2 argument `steps_per_epoch` is not the same as the Keras 1 argument `samples_per_epoch`. `steps_per_epoch` is the number of batches to draw from the generator at each epoch. Basically steps_per_epoch = samples_per_epoch/batch_size. Similarly `nb_val_samples`->`validation_steps` and `val_samples`->`steps` arguments have changed. Update your method calls accordingly.\n",
      "  history_object = model.fit_generator(train_generator, samples_per_epoch = train_size, validation_data = valid_generator, nb_val_samples = valid_size, nb_epoch = epochs, verbose = 1)\n",
      "U:\\DatenAMS\\2_Archive\\B_Programs\\GH_GitHub\\CarND-Behavioral-Cloning-P3\\behavioral_cloning.py:320: UserWarning: Update your `fit_generator` call to the Keras 2 API: `fit_generator(<generator..., validation_data=<generator..., steps_per_epoch=256, verbose=1, epochs=2, validation_steps=256)`\n",
      "  history_object = model.fit_generator(train_generator, samples_per_epoch = train_size, validation_data = valid_generator, nb_val_samples = valid_size, nb_epoch = epochs, verbose = 1)\n"
     ]
    },
    {
     "name": "stdout",
     "output_type": "stream",
     "text": [
      "[-0.09887218, -0.03759398, 0.031203010000000003, 0.4033835, -0.2996241, 0.14548869999999997, 1.05, -0.7958647, 0.07631579, 0.1830827, -0.1691729, 0.5263158, -0.487594, 0.02631579, 0.95, -0.06503759, 0.061278200000000005, 0.057518797, -0.3973684, 0.0112782, 0.4360902, -0.1003759, -0.4323308, -0.2266917, -0.4522556, 0.012406020000000004, -0.08383459, 0.4135338, -0.14548869999999997, -0.7657894999999999, -0.3984962, 0.1541353][-0.01879699, 0.0112782, 0.03383459, 0.22293230000000003, -0.1868421, 0.2620301, -0.12142857, 0.061278200000000005, 0.8169173000000001, 0.8169173000000001, -0.6052632, 0.2003759, 0.061278200000000005, 0.112782, 0.7229324, 0.2518797, 0.487594, 0.10263158, -0.531203, -0.06390978, -0.95, -0.03759398, -0.042481203, -0.07255639, 0.11766918, -0.03496241, -0.33571429999999997, 0.11390978, -0.04135338, -0.06503759, -0.32218050000000004, -0.5838346000000001]\n",
      "\n",
      "Epoch 1/2\n",
      "[-0.0026315799999999945, -0.05263158, 0.031203010000000003, -0.04135338, -0.15902260000000001, 0.3071429, -0.09398497, 0.15902260000000001, -0.12142857, 0.0387218, 0.181579, 0.606391, 0.27556390000000003, 0.2003759, -0.6966165000000001, -0.7067669, 0.6981202, 0.057518797, -0.061278200000000005, -0.6278195, 0.007518797, -0.95, 0.11766918, -0.1740602, -0.08007519, -1.0, -0.03007519, -0.061278200000000005, 0.3672932, 0.06879699, -0.5037594, -0.08007519]\n",
      "[0.17932330000000002, -0.06879699, 0.19812029999999997, -0.2605263, -0.053759398, 0.02631579, 0.06879699, -0.6289474, 0.05, 0.05639098, 0.06390978, 0.49511279999999996, 0.057518797, -0.053759398, 0.05, 0.7319549, -0.7154136000000001, -0.3582707, 0.11015037, 0.4887218, 0.003759398, 0.2379699, 0.06503759, 0.0387218, 0.13270676, -0.05263158, -0.2857143, 0.3860902, -0.06503759, 0.03496241, -0.04511278, 1.05]\n",
      "[-0.6868421, 0.1680451, -0.6278195, -0.021428569999999994, -0.09398497, 0.057518797, 0.3921053, -0.0387218, 0.0515038, -0.003759398, -0.04511278, 0.00864662, -0.4172932, 0.05, 0.053759398, 0.06879699, 0.053759398, 0.418421, -0.1492481, -0.47255640000000004, -0.9161653999999999, 0.481203, -0.07142857, 0.012406020000000004, -0.031203010000000003, -0.4360902, -0.6165413, 0.14774436000000002, 0.08270676, 0.06879699, -0.07631579, -0.4424812]\n",
      "[0.5789474, 0.8394737, 0.02255639, -0.22443610000000003, 0.6966165000000001, 0.6154136, -0.3383459, -0.95, 0.09511278000000001, -0.1278196, 0.32218050000000004, -0.2093985, 0.09022556, 0.7969925, -0.9973684, -0.4973684, -0.5902256, 0.3672932, 0.012406020000000004, 0.2921053, -0.3672932, -1.05, -0.012406020000000004, -0.0011278200000000016, -0.1567669, 0.4537594, -0.8571429, -0.45, 0.2078947, -0.3120301, -0.09022556, -0.010150369999999999]\n",
      "  1/256 [..............................] - ETA: 7:46 - loss: 10315.0459[0.004887220000000005, 0.4236842, 0.16428569999999998, -0.2116541, -0.481203, 0.95, -0.05263158, -0.3808271, 0.057518797, -0.95, 0.3169173, 0.1015038, 0.04398497, -0.1052632, -0.5800752, 0.95, -0.4135338, -0.6778195, 0.7206767, 0.4022556, 0.1203007, 0.9323308, 0.0026315799999999945, -1.05, -0.556391, 0.9398496, -0.606391, -0.07255639, 0.525188, 0.027443610000000004, -1.0, 0.6665413]\n",
      "[0.06503759, -0.8131579, -0.042481203, 0.3845865, -0.112782, 0.11015037, 0.3921053, 0.13646616, -0.3860902, 0.21541349999999998, -0.9635338, 0.21541349999999998, -0.4424812, -0.112782, 0.2379699, 0.6755639, 0.6289474, 0.04135338, -0.01503759, -0.7018797999999999, 0.318421, -0.03270676, -0.08759398, 0.12894737, 0.0112782, -0.2266917, 0.10639098, 0.03383459, -0.34849620000000003, -0.3582707, 0.43345859999999997, 0.027443610000000004]\n",
      "  3/256 [..............................] - ETA: 3:29 - loss: 3193673550.3486[0.3421053, -0.3146617, -0.6428571, 0.525188, -0.7642857000000001, -0.7680451, -0.09661650000000001, -0.46879699999999996, -0.4398496, -0.10639098, 0.04511278, 0.3533835, 0.05, -0.2293233, 0.4387218, -0.2545113, 0.07631579, 0.4323308, -0.7642857000000001, 0.06879699, 0.4135338, -0.4650376, 0.03007519, -0.4898496, 0.17180449999999997, -0.4898496, -0.6981202, 0.07518797, 0.755639, -0.01992481, -0.6590226, 0.01879699]\n",
      "[-0.14774436000000002, 0.3770677, -0.4436091, 0.023684210000000004, -0.2093985, 0.03383459, 0.057518797, -0.06390978, 1.0, 0.5977443, -0.3860902, -0.1003759, 0.2642857, -0.7244360999999999, -0.08909779999999999, 0.7808269999999999, -0.2894737, 0.1541353, 0.5590225999999999, 0.031203010000000003, -0.2481203, 0.5763158, -0.07631579, 0.755639, 0.040225559999999994, -0.0063909799999999975, 0.3909774, -0.053759398, 0.131579, 0.3244361, 0.4236842, 0.010150369999999999]\n",
      "  4/256 [..............................] - ETA: 3:34 - loss: 3241095290.7615[0.44097739999999996, 0.8620301, 0.14774436000000002, -0.4424812, -0.27706770000000003, 0.08383459, -0.13646616, 0.0112782, -0.6981202, -0.19661650000000003, 0.34849620000000003, -0.0552632, 0.031203010000000003, 0.5413534, -0.4785714, -0.04511278, 0.11766918, 0.3018797, 0.4774436, -0.4537594, 0.4537594, 0.2857143, 0.8635337999999999, -0.00864662, -1.05, -0.6778195, -0.44097739999999996, -0.6466165, -0.01879699, -0.5037594, -0.856015, -0.061278200000000005]\n",
      "[0.05, -0.1503759, 0.017669179999999993, -0.1240602, 0.08007519, 0.18533840000000001, -0.01992481, -0.4785714, 0.08007519, -0.4259399, -0.06390978, -0.01879699, 0.02631579, -0.424812, 0.031203010000000003, 0.368421, -0.12518797, 0.6289474, 0.031203010000000003, 1.05, 0.05639098, -0.5815789, -0.031203010000000003, -0.03007519, 0.9387217999999999, -0.01879699, 0.0387218, 0.4650376, -0.9898496, 0.0552632, -0.0387218, -0.46729319999999996]\n",
      "  5/256 [..............................] - ETA: 3:36 - loss: 3686836936.6092[0.01992481, -0.8834587, -0.11390978, -0.6176692, 0.003759398, -0.7105263, -0.2469925, 0.04887218, 0.3319549, 0.046240602000000006, -0.07631579, 0.046240602000000006, -0.01503759, -1.0, 0.02255639, -0.3958647, 1.0, 0.012406020000000004, 0.7567669, -0.1928571, -0.023684210000000004, 0.05263158, 0.7078947000000001, -0.02631579, -0.7695487999999999, 0.09135338000000001, -0.13270676, 0.06503759, -0.057518797, -0.5150376, -0.057518797, 0.40112780000000003]\n",
      "[0.525188, -0.013909779999999997, 0.0387218, -0.4650376, -0.95, 0.7605263000000001, 1.0, -0.09511278000000001, 0.081579, -0.1740602, 0.01503759, -0.40112780000000003, -0.05, -0.031203010000000003, -0.01879699, 0.8281955000000001, 0.7229324, 0.2894737, 0.06879699, 0.5387218, -0.031203010000000003, -0.7868421000000001, -0.01879699, 0.5928570999999999, -0.1703007, 0.023684210000000004, 0.06503759, 0.04774436, 0.11917289999999998, -0.10263158, -0.7883458999999999, 0.462406]\n",
      "  6/256 [..............................] - ETA: 3:40 - loss: 3576560636.5076[-1.0, 0.5537594, 0.09774436, -0.13646616, -0.09887218, 0.2067669, -0.03496241, -0.2180451, 0.5176691999999999, 0.09774436, -0.04887218, 0.4172932, -0.4650376, -0.1466165, 0.181579, -0.1703007, 0.525188, 0.5488722, -0.1240602, -0.03007519, -0.95, 0.053759398, -0.1466165, -0.412406, 0.12293230000000001, 0.4650376, 0.02631579, -0.057518797, -0.4022556, 1.0, 0.6981202, -0.0387218]\n"
     ]
    },
    {
     "ename": "KeyboardInterrupt",
     "evalue": "",
     "output_type": "error",
     "traceback": [
      "\u001b[1;31m---------------------------------------------------------------------------\u001b[0m",
      "\u001b[1;31mKeyboardInterrupt\u001b[0m                         Traceback (most recent call last)",
      "\u001b[1;32mU:\\DatenAMS\\2_Archive\\B_Programs\\GH_GitHub\\CarND-Behavioral-Cloning-P3\\behavioral_cloning.py\u001b[0m in \u001b[0;36m<module>\u001b[1;34m()\u001b[0m\n\u001b[0;32m    366\u001b[0m \u001b[1;33m\u001b[0m\u001b[0m\n\u001b[0;32m    367\u001b[0m     \u001b[1;31m# train model\u001b[0m\u001b[1;33m\u001b[0m\u001b[1;33m\u001b[0m\u001b[0m\n\u001b[1;32m--> 368\u001b[1;33m     \u001b[0mtrain_model\u001b[0m\u001b[1;33m(\u001b[0m\u001b[0mtrain_generator\u001b[0m\u001b[1;33m,\u001b[0m \u001b[0mnp\u001b[0m\u001b[1;33m.\u001b[0m\u001b[0mmin\u001b[0m\u001b[1;33m(\u001b[0m\u001b[1;33m[\u001b[0m\u001b[0mtrain_size\u001b[0m\u001b[1;33m,\u001b[0m \u001b[0mmax_train_size\u001b[0m\u001b[1;33m]\u001b[0m\u001b[1;33m)\u001b[0m\u001b[1;33m,\u001b[0m \u001b[0mvalid_generator\u001b[0m\u001b[1;33m,\u001b[0m \u001b[0mnp\u001b[0m\u001b[1;33m.\u001b[0m\u001b[0mmin\u001b[0m\u001b[1;33m(\u001b[0m\u001b[1;33m[\u001b[0m\u001b[0mvalid_size\u001b[0m\u001b[1;33m,\u001b[0m \u001b[0mmax_valid_size\u001b[0m\u001b[1;33m]\u001b[0m\u001b[1;33m)\u001b[0m\u001b[1;33m,\u001b[0m \u001b[0mbatch_size\u001b[0m\u001b[1;33m,\u001b[0m \u001b[0myimagerange\u001b[0m\u001b[1;33m,\u001b[0m \u001b[0mysize\u001b[0m\u001b[1;33m,\u001b[0m \u001b[0mxsize\u001b[0m\u001b[1;33m,\u001b[0m \u001b[0mepochs\u001b[0m\u001b[1;33m,\u001b[0m \u001b[0mmodelfile\u001b[0m\u001b[1;33m,\u001b[0m \u001b[0mbdisplay\u001b[0m \u001b[1;33m=\u001b[0m \u001b[0mbdisplay\u001b[0m\u001b[1;33m,\u001b[0m \u001b[0mbdebug\u001b[0m \u001b[1;33m=\u001b[0m \u001b[0mbdebug\u001b[0m\u001b[1;33m)\u001b[0m\u001b[1;33m\u001b[0m\u001b[0m\n\u001b[0m",
      "\u001b[1;32mU:\\DatenAMS\\2_Archive\\B_Programs\\GH_GitHub\\CarND-Behavioral-Cloning-P3\\behavioral_cloning.py\u001b[0m in \u001b[0;36mtrain_model\u001b[1;34m(train_generator, train_size, valid_generator, valid_size, batch_size, yimagerange, ysize, xsize, epochs, modelfile, bdisplay, bdebug)\u001b[0m\n\u001b[0;32m    318\u001b[0m \u001b[1;33m\u001b[0m\u001b[0m\n\u001b[0;32m    319\u001b[0m     \u001b[1;31m# train model\u001b[0m\u001b[1;33m\u001b[0m\u001b[1;33m\u001b[0m\u001b[0m\n\u001b[1;32m--> 320\u001b[1;33m     \u001b[0mhistory_object\u001b[0m \u001b[1;33m=\u001b[0m \u001b[0mmodel\u001b[0m\u001b[1;33m.\u001b[0m\u001b[0mfit_generator\u001b[0m\u001b[1;33m(\u001b[0m\u001b[0mtrain_generator\u001b[0m\u001b[1;33m,\u001b[0m \u001b[0msamples_per_epoch\u001b[0m \u001b[1;33m=\u001b[0m \u001b[0mtrain_size\u001b[0m\u001b[1;33m,\u001b[0m \u001b[0mvalidation_data\u001b[0m \u001b[1;33m=\u001b[0m \u001b[0mvalid_generator\u001b[0m\u001b[1;33m,\u001b[0m \u001b[0mnb_val_samples\u001b[0m \u001b[1;33m=\u001b[0m \u001b[0mvalid_size\u001b[0m\u001b[1;33m,\u001b[0m \u001b[0mnb_epoch\u001b[0m \u001b[1;33m=\u001b[0m \u001b[0mepochs\u001b[0m\u001b[1;33m,\u001b[0m \u001b[0mverbose\u001b[0m \u001b[1;33m=\u001b[0m \u001b[1;36m1\u001b[0m\u001b[1;33m)\u001b[0m\u001b[1;33m\u001b[0m\u001b[0m\n\u001b[0m\u001b[0;32m    321\u001b[0m \u001b[1;33m\u001b[0m\u001b[0m\n\u001b[0;32m    322\u001b[0m     \u001b[1;31m# display information\u001b[0m\u001b[1;33m\u001b[0m\u001b[1;33m\u001b[0m\u001b[0m\n",
      "\u001b[1;32mC:\\ProgramData\\Anaconda3\\envs\\tensorflow_GPU\\lib\\site-packages\\keras\\legacy\\interfaces.py\u001b[0m in \u001b[0;36mwrapper\u001b[1;34m(*args, **kwargs)\u001b[0m\n\u001b[0;32m     89\u001b[0m                 warnings.warn('Update your `' + object_name +\n\u001b[0;32m     90\u001b[0m                               '` call to the Keras 2 API: ' + signature, stacklevel=2)\n\u001b[1;32m---> 91\u001b[1;33m             \u001b[1;32mreturn\u001b[0m \u001b[0mfunc\u001b[0m\u001b[1;33m(\u001b[0m\u001b[1;33m*\u001b[0m\u001b[0margs\u001b[0m\u001b[1;33m,\u001b[0m \u001b[1;33m**\u001b[0m\u001b[0mkwargs\u001b[0m\u001b[1;33m)\u001b[0m\u001b[1;33m\u001b[0m\u001b[0m\n\u001b[0m\u001b[0;32m     92\u001b[0m         \u001b[0mwrapper\u001b[0m\u001b[1;33m.\u001b[0m\u001b[0m_original_function\u001b[0m \u001b[1;33m=\u001b[0m \u001b[0mfunc\u001b[0m\u001b[1;33m\u001b[0m\u001b[0m\n\u001b[0;32m     93\u001b[0m         \u001b[1;32mreturn\u001b[0m \u001b[0mwrapper\u001b[0m\u001b[1;33m\u001b[0m\u001b[0m\n",
      "\u001b[1;32mC:\\ProgramData\\Anaconda3\\envs\\tensorflow_GPU\\lib\\site-packages\\keras\\engine\\training.py\u001b[0m in \u001b[0;36mfit_generator\u001b[1;34m(self, generator, steps_per_epoch, epochs, verbose, callbacks, validation_data, validation_steps, class_weight, max_queue_size, workers, use_multiprocessing, shuffle, initial_epoch)\u001b[0m\n\u001b[0;32m   1413\u001b[0m             \u001b[0muse_multiprocessing\u001b[0m\u001b[1;33m=\u001b[0m\u001b[0muse_multiprocessing\u001b[0m\u001b[1;33m,\u001b[0m\u001b[1;33m\u001b[0m\u001b[0m\n\u001b[0;32m   1414\u001b[0m             \u001b[0mshuffle\u001b[0m\u001b[1;33m=\u001b[0m\u001b[0mshuffle\u001b[0m\u001b[1;33m,\u001b[0m\u001b[1;33m\u001b[0m\u001b[0m\n\u001b[1;32m-> 1415\u001b[1;33m             initial_epoch=initial_epoch)\n\u001b[0m\u001b[0;32m   1416\u001b[0m \u001b[1;33m\u001b[0m\u001b[0m\n\u001b[0;32m   1417\u001b[0m     \u001b[1;33m@\u001b[0m\u001b[0minterfaces\u001b[0m\u001b[1;33m.\u001b[0m\u001b[0mlegacy_generator_methods_support\u001b[0m\u001b[1;33m\u001b[0m\u001b[0m\n",
      "\u001b[1;32mC:\\ProgramData\\Anaconda3\\envs\\tensorflow_GPU\\lib\\site-packages\\keras\\engine\\training_generator.py\u001b[0m in \u001b[0;36mfit_generator\u001b[1;34m(model, generator, steps_per_epoch, epochs, verbose, callbacks, validation_data, validation_steps, class_weight, max_queue_size, workers, use_multiprocessing, shuffle, initial_epoch)\u001b[0m\n\u001b[0;32m    175\u001b[0m             \u001b[0mbatch_index\u001b[0m \u001b[1;33m=\u001b[0m \u001b[1;36m0\u001b[0m\u001b[1;33m\u001b[0m\u001b[0m\n\u001b[0;32m    176\u001b[0m             \u001b[1;32mwhile\u001b[0m \u001b[0msteps_done\u001b[0m \u001b[1;33m<\u001b[0m \u001b[0msteps_per_epoch\u001b[0m\u001b[1;33m:\u001b[0m\u001b[1;33m\u001b[0m\u001b[0m\n\u001b[1;32m--> 177\u001b[1;33m                 \u001b[0mgenerator_output\u001b[0m \u001b[1;33m=\u001b[0m \u001b[0mnext\u001b[0m\u001b[1;33m(\u001b[0m\u001b[0moutput_generator\u001b[0m\u001b[1;33m)\u001b[0m\u001b[1;33m\u001b[0m\u001b[0m\n\u001b[0m\u001b[0;32m    178\u001b[0m \u001b[1;33m\u001b[0m\u001b[0m\n\u001b[0;32m    179\u001b[0m                 \u001b[1;32mif\u001b[0m \u001b[1;32mnot\u001b[0m \u001b[0mhasattr\u001b[0m\u001b[1;33m(\u001b[0m\u001b[0mgenerator_output\u001b[0m\u001b[1;33m,\u001b[0m \u001b[1;34m'__len__'\u001b[0m\u001b[1;33m)\u001b[0m\u001b[1;33m:\u001b[0m\u001b[1;33m\u001b[0m\u001b[0m\n",
      "\u001b[1;32mC:\\ProgramData\\Anaconda3\\envs\\tensorflow_GPU\\lib\\site-packages\\keras\\utils\\data_utils.py\u001b[0m in \u001b[0;36mget\u001b[1;34m(self)\u001b[0m\n\u001b[0;32m    785\u001b[0m                     \u001b[1;32mraise\u001b[0m \u001b[0mStopIteration\u001b[0m\u001b[1;33m(\u001b[0m\u001b[1;33m)\u001b[0m\u001b[1;33m\u001b[0m\u001b[0m\n\u001b[0;32m    786\u001b[0m                 \u001b[1;32melse\u001b[0m\u001b[1;33m:\u001b[0m\u001b[1;33m\u001b[0m\u001b[0m\n\u001b[1;32m--> 787\u001b[1;33m                     \u001b[0mtime\u001b[0m\u001b[1;33m.\u001b[0m\u001b[0msleep\u001b[0m\u001b[1;33m(\u001b[0m\u001b[0mself\u001b[0m\u001b[1;33m.\u001b[0m\u001b[0mwait_time\u001b[0m\u001b[1;33m)\u001b[0m\u001b[1;33m\u001b[0m\u001b[0m\n\u001b[0m\u001b[0;32m    788\u001b[0m \u001b[1;33m\u001b[0m\u001b[0m\n\u001b[0;32m    789\u001b[0m         \u001b[1;31m# Make sure to rethrow the first exception in the queue, if any\u001b[0m\u001b[1;33m\u001b[0m\u001b[1;33m\u001b[0m\u001b[0m\n",
      "\u001b[1;31mKeyboardInterrupt\u001b[0m: "
     ]
    }
   ],
   "source": [
    "%matplotlib inline\n",
    "%run behavioral_cloning"
   ]
  },
  {
   "cell_type": "code",
   "execution_count": null,
   "metadata": {},
   "outputs": [],
   "source": []
  }
 ],
 "metadata": {
  "kernelspec": {
   "display_name": "Python 3",
   "language": "python",
   "name": "python3"
  },
  "language_info": {
   "codemirror_mode": {
    "name": "ipython",
    "version": 3
   },
   "file_extension": ".py",
   "mimetype": "text/x-python",
   "name": "python",
   "nbconvert_exporter": "python",
   "pygments_lexer": "ipython3",
   "version": "3.5.5"
  }
 },
 "nbformat": 4,
 "nbformat_minor": 2
}
