{
 "cells": [
  {
   "cell_type": "code",
   "execution_count": 5,
   "metadata": {},
   "outputs": [],
   "source": [
    "import cv2\n",
    "import numpy as np\n",
    "import matplotlib.pyplot as plt\n",
    "\n",
    "# define constants\n",
    "imagefile = 'docu_images/01_02_center_2018_08_18_06_11_22_467.jpg'\n",
    "outimagefilecropped = 'docu_images/01_02_center_2018_08_18_06_11_22_467_cropped.jpg'\n",
    "outimagefileflipped = 'docu_images/01_02_center_2018_08_18_06_11_22_467_flipped.jpg'\n",
    "yimagerange = [70, 135]\n",
    "\n",
    "# load image\n",
    "image = cv2.imread(imagefile)\n",
    "\n",
    "# crop image\n",
    "croppedimage = image[yimagerange[0]:yimagerange[1], :, :]\n",
    "bsuccess = cv2.imwrite(outimagefilecropped, croppedimage)\n",
    "\n",
    "# flip image\n",
    "flippedimage = np.fliplr(image)\n",
    "bsuccess = cv2.imwrite(outimagefileflipped, flippedimage)"
   ]
  },
  {
   "cell_type": "code",
   "execution_count": 10,
   "metadata": {},
   "outputs": [],
   "source": [
    "b = 'test'\n",
    "a = {b: a[b] + 1}"
   ]
  },
  {
   "cell_type": "code",
   "execution_count": 13,
   "metadata": {},
   "outputs": [],
   "source": [
    "b = 'test1'\n",
    "a[b] = 0\n",
    "a[b] = a[b] + 1"
   ]
  },
  {
   "cell_type": "code",
   "execution_count": 18,
   "metadata": {},
   "outputs": [
    {
     "name": "stdout",
     "output_type": "stream",
     "text": [
      "20_256_005_nm_c2_d3_wd 0.02\n",
      "20_inf_020_nm_c2_d3_nd 0.03\n",
      "20_inf_020_nm_c5_d4_nd 0.05\n",
      "20_inf_040_wm_c2_d3_nd 0.05\n",
      "20_inf_020_nm_c5_d4_wd 0.06\n",
      "20_inf_020_nm_c2_d3_wd 0.06\n",
      "20_256_005_nm_c2_d3_nd 0.1\n",
      "20_inf_020_wm_c5_d4_nd 0.12\n",
      "20_inf_040_wm_c5_d4_nd 0.12\n",
      "20_256_005_nm_c5_d4_nd 0.13\n",
      "20_inf_005_nm_c2_d3_nd 0.13\n",
      "20_inf_040_wm_c2_d3_wd 0.15\n",
      "20_inf_040_wm_c5_d4_wd 0.21\n",
      "20_inf_005_nm_c5_d4_wd 0.23\n",
      "20_256_005_nm_c5_d4_wd 0.31\n",
      "20_inf_020_wm_c2_d3_nd 0.35\n",
      "20_inf_020_wm_c2_d3_wd 0.48\n",
      "20_inf_020_wm_c5_d4_wd 0.49\n",
      "20_inf_005_wm_c2_d3_nd 0.49\n",
      "20_inf_005_wm_c5_d4_wd 0.49\n",
      "20_inf_005_wm_c5_d4_nd 0.5\n",
      "20_inf_005_wm_c2_d3_wd 0.5\n",
      "20_inf_005_nm_c5_d4_nd 0.53\n",
      "20_inf_005_nm_c2_d3_wd 0.55\n",
      "9_inf_020_wm_c5_d4_wd 0.97\n",
      "9_inf_005_wm_c5_d4_wd 1.0\n"
     ]
    }
   ],
   "source": [
    "import glob\n",
    "import os\n",
    "import cv2\n",
    "import numpy as np\n",
    "import matplotlib.pyplot as plt\n",
    "\n",
    "videos = glob.glob('U:\\\\DatenAMS\\\\2_Archive\\\\2_Documents\\\\06_Study\\\\4_Udacity\\\\AB_Self_Driving_Car_Engineer_Nanodegree\\\\180824_StAn_Udacity_SDCND_Behavioral_Cloning_Models_Videos\\\\*.mp4')\n",
    "\n",
    "names = []\n",
    "sizes = []\n",
    "for video in videos:\n",
    "    pathname, filename = os.path.split(video)\n",
    "    names.append(filename[7:-4])\n",
    "    sizes.append(os.path.getsize(video))\n",
    "\n",
    "sizes, names = [list(x) for x in zip(*sorted(zip(sizes, names), key = lambda pair: pair[0]))]\n",
    "for name, size in zip(names, sizes):\n",
    "    print(name, round(size/max(sizes)*100)/100)"
   ]
  },
  {
   "cell_type": "code",
   "execution_count": null,
   "metadata": {},
   "outputs": [],
   "source": []
  }
 ],
 "metadata": {
  "kernelspec": {
   "display_name": "Python 3",
   "language": "python",
   "name": "python3"
  },
  "language_info": {
   "codemirror_mode": {
    "name": "ipython",
    "version": 3
   },
   "file_extension": ".py",
   "mimetype": "text/x-python",
   "name": "python",
   "nbconvert_exporter": "python",
   "pygments_lexer": "ipython3",
   "version": "3.5.5"
  }
 },
 "nbformat": 4,
 "nbformat_minor": 2
}
