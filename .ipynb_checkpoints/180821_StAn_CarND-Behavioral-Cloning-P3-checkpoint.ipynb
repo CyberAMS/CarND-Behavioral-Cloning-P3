{
 "cells": [
  {
   "cell_type": "code",
   "execution_count": null,
   "metadata": {
    "scrolled": false
   },
   "outputs": [
    {
     "name": "stdout",
     "output_type": "stream",
     "text": [
      "Finding input data files...\n",
      "../../GD_GitHubData/behavioral-cloning-data\\track1_ceave1_driving_log.csv\n",
      "../../GD_GitHubData/behavioral-cloning-data\\track1_ceave2_driving_log.csv\n",
      "../../GD_GitHubData/behavioral-cloning-data\\track1_center1_driving_log.csv\n",
      "../../GD_GitHubData/behavioral-cloning-data\\track1_center2_driving_log.csv\n",
      "../../GD_GitHubData/behavioral-cloning-data\\track1_counter1_driving_log.csv\n",
      "../../GD_GitHubData/behavioral-cloning-data\\track1_counter2_driving_log.csv\n",
      "../../GD_GitHubData/behavioral-cloning-data\\track1_weave1_driving_log.csv\n",
      "../../GD_GitHubData/behavioral-cloning-data\\track1_weave2_driving_log.csv\n",
      "Number of image files: 66270 ; number of measurements: 66270 ; must flip: 33135 ; size: 320 x 160\n",
      "Batch size: 32\n"
     ]
    },
    {
     "name": "stderr",
     "output_type": "stream",
     "text": [
      "D:\\Data\\B_Programs\\GH_GitHub\\CarND-Behavioral-Cloning-P3\\behavioral_cloning3.py:299: UserWarning: Update your `Conv2D` call to the Keras 2 API: `Conv2D(24, (5, 5), kernel_regularizer=<keras.reg..., activation=\"relu\", strides=(2, 2))`\n",
      "  model.add(Conv2D(24, 5, 5, subsample = (2, 2), activation = \"relu\", kernel_regularizer = regularizers.l2(0.01)))\n",
      "D:\\Data\\B_Programs\\GH_GitHub\\CarND-Behavioral-Cloning-P3\\behavioral_cloning3.py:301: UserWarning: Update your `Conv2D` call to the Keras 2 API: `Conv2D(36, (5, 5), kernel_regularizer=<keras.reg..., activation=\"relu\", strides=(2, 2))`\n",
      "  model.add(Conv2D(36, 5, 5, subsample = (2, 2), activation = \"relu\", kernel_regularizer = regularizers.l2(0.01)))\n",
      "D:\\Data\\B_Programs\\GH_GitHub\\CarND-Behavioral-Cloning-P3\\behavioral_cloning3.py:303: UserWarning: Update your `Conv2D` call to the Keras 2 API: `Conv2D(48, (5, 5), kernel_regularizer=<keras.reg..., activation=\"relu\", strides=(2, 2))`\n",
      "  model.add(Conv2D(48, 5, 5, subsample = (2, 2), activation = \"relu\", kernel_regularizer = regularizers.l2(0.01)))\n",
      "D:\\Data\\B_Programs\\GH_GitHub\\CarND-Behavioral-Cloning-P3\\behavioral_cloning3.py:305: UserWarning: Update your `Conv2D` call to the Keras 2 API: `Conv2D(64, (3, 3), kernel_regularizer=<keras.reg..., activation=\"relu\")`\n",
      "  model.add(Conv2D(64, 3, 3, activation = \"relu\", kernel_regularizer = regularizers.l2(0.01)))\n",
      "D:\\Data\\B_Programs\\GH_GitHub\\CarND-Behavioral-Cloning-P3\\behavioral_cloning3.py:307: UserWarning: Update your `Conv2D` call to the Keras 2 API: `Conv2D(64, (3, 3), kernel_regularizer=<keras.reg..., activation=\"relu\")`\n",
      "  model.add(Conv2D(64, 3, 3, activation = \"relu\", kernel_regularizer = regularizers.l2(0.01)))\n",
      "D:\\Data\\B_Programs\\GH_GitHub\\CarND-Behavioral-Cloning-P3\\behavioral_cloning3.py:324: UserWarning: The semantics of the Keras 2 argument `steps_per_epoch` is not the same as the Keras 1 argument `samples_per_epoch`. `steps_per_epoch` is the number of batches to draw from the generator at each epoch. Basically steps_per_epoch = samples_per_epoch/batch_size. Similarly `nb_val_samples`->`validation_steps` and `val_samples`->`steps` arguments have changed. Update your method calls accordingly.\n",
      "  history_object = model.fit_generator(train_generator, samples_per_epoch = np.int(train_size // batch_size), validation_data = valid_generator, nb_val_samples = np.int(valid_size // batch_size), nb_epoch = epochs, verbose = 1)\n",
      "D:\\Data\\B_Programs\\GH_GitHub\\CarND-Behavioral-Cloning-P3\\behavioral_cloning3.py:324: UserWarning: Update your `fit_generator` call to the Keras 2 API: `fit_generator(<generator..., validation_steps=414, epochs=3, validation_data=<generator..., steps_per_epoch=1656, verbose=1)`\n",
      "  history_object = model.fit_generator(train_generator, samples_per_epoch = np.int(train_size // batch_size), validation_data = valid_generator, nb_val_samples = np.int(valid_size // batch_size), nb_epoch = epochs, verbose = 1)\n"
     ]
    },
    {
     "name": "stdout",
     "output_type": "stream",
     "text": [
      "Epoch 1/3\n",
      "1295/1656 [======================>.......] - ETA: 14s - loss: 0.2151"
     ]
    }
   ],
   "source": [
    "%matplotlib inline\n",
    "%run behavioral_cloning3"
   ]
  },
  {
   "cell_type": "code",
   "execution_count": null,
   "metadata": {},
   "outputs": [],
   "source": []
  }
 ],
 "metadata": {
  "kernelspec": {
   "display_name": "Python 3",
   "language": "python",
   "name": "python3"
  },
  "language_info": {
   "codemirror_mode": {
    "name": "ipython",
    "version": 3
   },
   "file_extension": ".py",
   "mimetype": "text/x-python",
   "name": "python",
   "nbconvert_exporter": "python",
   "pygments_lexer": "ipython3",
   "version": "3.5.5"
  }
 },
 "nbformat": 4,
 "nbformat_minor": 2
}
