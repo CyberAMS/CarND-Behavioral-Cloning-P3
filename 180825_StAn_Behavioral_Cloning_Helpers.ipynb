{
 "cells": [
  {
   "cell_type": "code",
   "execution_count": 5,
   "metadata": {},
   "outputs": [],
   "source": [
    "import cv2\n",
    "import numpy as np\n",
    "import matplotlib.pyplot as plt\n",
    "\n",
    "# define constants\n",
    "imagefile = 'docu_images/01_02_center_2018_08_18_06_11_22_467.jpg'\n",
    "outimagefilecropped = 'docu_images/01_02_center_2018_08_18_06_11_22_467_cropped.jpg'\n",
    "outimagefileflipped = 'docu_images/01_02_center_2018_08_18_06_11_22_467_flipped.jpg'\n",
    "yimagerange = [70, 135]\n",
    "\n",
    "# load image\n",
    "image = cv2.imread(imagefile)\n",
    "\n",
    "# crop image\n",
    "croppedimage = image[yimagerange[0]:yimagerange[1], :, :]\n",
    "bsuccess = cv2.imwrite(outimagefilecropped, croppedimage)\n",
    "\n",
    "# flip image\n",
    "flippedimage = np.fliplr(image)\n",
    "bsuccess = cv2.imwrite(outimagefileflipped, flippedimage)"
   ]
  },
  {
   "cell_type": "code",
   "execution_count": 10,
   "metadata": {},
   "outputs": [],
   "source": [
    "b = 'test'\n",
    "a = {b: a[b] + 1}"
   ]
  },
  {
   "cell_type": "code",
   "execution_count": 13,
   "metadata": {},
   "outputs": [],
   "source": [
    "b = 'test1'\n",
    "a[b] = 0\n",
    "a[b] = a[b] + 1"
   ]
  },
  {
   "cell_type": "code",
   "execution_count": null,
   "metadata": {},
   "outputs": [],
   "source": []
  }
 ],
 "metadata": {
  "kernelspec": {
   "display_name": "Python 3",
   "language": "python",
   "name": "python3"
  },
  "language_info": {
   "codemirror_mode": {
    "name": "ipython",
    "version": 3
   },
   "file_extension": ".py",
   "mimetype": "text/x-python",
   "name": "python",
   "nbconvert_exporter": "python",
   "pygments_lexer": "ipython3",
   "version": "3.5.5"
  }
 },
 "nbformat": 4,
 "nbformat_minor": 2
}
